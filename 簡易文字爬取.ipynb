{
 "cells": [
  {
   "cell_type": "markdown",
   "metadata": {},
   "source": [
    "## 瀏覽器&套件設定"
   ]
  },
  {
   "cell_type": "code",
   "execution_count": 53,
   "metadata": {},
   "outputs": [],
   "source": [
    "from selenium.webdriver.chrome.service import Service as ChromeService\n",
    "from selenium import webdriver\n",
    "from webdriver_manager.chrome import ChromeDriverManager\n",
    "\n",
    "from selenium.webdriver.common.keys import Keys\n",
    "from selenium.webdriver.common.by import By\n",
    "from selenium.webdriver.support.ui import WebDriverWait\n",
    "from selenium.webdriver.support import expected_conditions as EC\n",
    "from selenium.webdriver.common.action_chains import ActionChains\n",
    "import time"
   ]
  },
  {
   "cell_type": "code",
   "execution_count": 54,
   "metadata": {},
   "outputs": [],
   "source": [
    "# 擋掉通知黑屏，以防止瀏覽器第一次登入時跳出通知視窗\n",
    "options = webdriver.ChromeOptions()\n",
    "options.add_experimental_option(\"prefs\", {\n",
    "    \"profile.default_content_setting_values.notifications\": 2\n",
    "})"
   ]
  },
  {
   "cell_type": "code",
   "execution_count": 32,
   "metadata": {},
   "outputs": [],
   "source": [
    "options.add_argument('--headless') # colab上須加上headless，表不使用GUI背景執行\n",
    "options.add_argument('--no-sandbox')\n",
    "options.headless = True"
   ]
  },
  {
   "cell_type": "markdown",
   "metadata": {},
   "source": [
    "## 自動登入"
   ]
  },
  {
   "cell_type": "code",
   "execution_count": 55,
   "metadata": {},
   "outputs": [
    {
     "name": "stdout",
     "output_type": "stream",
     "text": [
      "登入成功\n"
     ]
    }
   ],
   "source": [
    "# ------ 登入的帳號與密碼 ------\n",
    "username = str(input(\"請輸入帳號：\"))\n",
    "password = str(input(\"請輸入密碼：\"))\n",
    "\n",
    "driver = webdriver.Chrome(service=ChromeService(ChromeDriverManager().install()), options=options)\n",
    "\n",
    "url = 'https://www.facebook.com'  \n",
    "driver.get(url)\n",
    "\n",
    "WebDriverWait(driver, 30).until(EC.presence_of_element_located((By.XPATH, '//*[@id=\"email\"]')))\n",
    "\n",
    "elem = driver.find_element(By.ID,\"email\")\n",
    "elem.send_keys(username)\n",
    "\n",
    "elem = driver.find_element(By.ID,\"pass\")\n",
    "elem.send_keys(password)\n",
    "\n",
    "\n",
    "# 提交登入\n",
    "elem.send_keys(Keys.RETURN)\n",
    "time.sleep(5)\n",
    "\n",
    "# 檢查有沒有被擋下來\n",
    "if len(driver.find_elements(By.XPATH,\"//*[contains(text(), '你的帳號暫時被鎖住')]\")) > 0:\n",
    "    driver.find_elements(By.XPATH,\"//*[contains(text(), '是')]\")[1].click()\n",
    "elif len(driver.find_elements(By.XPATH, \"//*[contains(text(), '用戶名稱或密碼無效')]\")) > 0:\n",
    "    print(\"登入失敗，請檢查帳號密碼是否正確\")\n",
    "elif len(driver.find_elements(By.XPATH, \"//*[contains(text(), 'Invalid username or password')]\")) > 0:\n",
    "    print(\"登入失敗，請檢查帳號密碼是否正確\")\n",
    "else:\n",
    "    feed = WebDriverWait(driver, 10).until(EC.presence_of_element_located((By.CSS_SELECTOR, 'div[role=\"main\"]'))) # 等待動態頁面(鎖定貼文)加載完成\n",
    "    print(\"登入成功\")"
   ]
  },
  {
   "cell_type": "markdown",
   "metadata": {},
   "source": [
    "## 純貼文爬取"
   ]
  },
  {
   "cell_type": "code",
   "execution_count": 62,
   "metadata": {},
   "outputs": [
    {
     "name": "stdout",
     "output_type": "stream",
     "text": [
      "0 28\n",
      "!!! 檢查當前是否有 「查看更多」 Button !!!\n",
      "Button clicked!\n",
      "Button clicked!\n",
      "Button clicked!\n",
      "!!! 檢查完畢 !!!\n",
      "--------------貼文分隔線--------------\n",
      "此篇非普通貼文，跳過處理\n",
      "--------------貼文分隔線--------------\n",
      "此篇非普通貼文，跳過處理\n",
      "--------------貼文分隔線--------------\n",
      "此篇非普通貼文，跳過處理\n",
      "--------------貼文分隔線--------------\n",
      "此篇非普通貼文，跳過處理\n",
      "--------------貼文分隔線--------------\n",
      "此篇非普通貼文，跳過處理\n",
      "--------------貼文分隔線--------------\n",
      "此篇非普通貼文，跳過處理\n",
      "--------------貼文分隔線--------------\n",
      "此篇非普通貼文，跳過處理\n",
      "--------------貼文分隔線--------------\n",
      "此篇非普通貼文，跳過處理\n",
      "--------------貼文分隔線--------------\n",
      "此篇非普通貼文，跳過處理\n",
      "--------------貼文分隔線--------------\n",
      "此篇非普通貼文，跳過處理\n",
      "--------------貼文分隔線--------------\n",
      "此篇非普通貼文，跳過處理\n",
      "--------------貼文分隔線--------------\n",
      "此篇非普通貼文，跳過處理\n",
      "--------------貼文分隔線--------------\n",
      "此篇非普通貼文，跳過處理\n",
      "--------------貼文分隔線--------------\n",
      "此篇非普通貼文，跳過處理\n",
      "--------------貼文分隔線--------------\n",
      "\n",
      "此篇非普通貼文，跳過處理\n",
      "--------------貼文分隔線--------------\n",
      "此篇非普通貼文，跳過處理\n",
      "--------------貼文分隔線--------------\n",
      "當初去日本參加Stance Nation  看到整排帥車陸續離場真的很興奮～～\n",
      "在台灣你即將也可以看到這樣畫面了！\n",
      "#SFT\n",
      "#StanceFest\n",
      "#stabber人車生活 \n",
      "#stabber解析影影像 \n",
      "#stancewalk\n",
      "元素截圖完成\n",
      "--------------貼文分隔線--------------\n",
      "光復南路跟市民大道交叉路口設備上線\n",
      "元素截圖完成\n",
      "--------------貼文分隔線--------------\n",
      "又踏入左F1賽季\n",
      "，除左F1粉絲們追睇比賽直播外，亦有唔少fans選擇玩F1 24遊戲，可以令佢地感受、回味比賽氣紛。\n",
      "Simagic FX Pro就係為F1遊戲設計軚環\n",
      "。上面有大量按鈕、旋鈕及撥片，方便用家係雙手不離軚下可以操作不同功能。配合4.3\" LCD屏幕，可以即時顯示關於車輛本身不同資訊，令玩家掌握最新資訊，制定屬於自己既比賽策略。\n",
      "門市商城同價，購買實體商品可獲雙倍紅利積分。\n",
      "Simagic FX Pro方程式方向盤(6撥片)：https://www.openshop.com.hk/product_29598.html\n",
      "元素截圖完成\n",
      "--------------貼文分隔線--------------\n",
      "號稱高雄第二好吃的鍋燒\n",
      "我比較好奇高雄第一好吃的鍋燒是\n",
      "元素截圖完成\n",
      "--------------貼文分隔線--------------\n",
      "此篇非普通貼文，跳過處理\n",
      "--------------貼文分隔線--------------\n",
      "動畫《寶可夢地平線：系列》本週劇圖\n",
      "莉可在回橘子學院的路上遇到小安，除了結伴同行外也跟小安解釋太樂巴戈斯的故事\n",
      "元素截圖完成\n",
      "--------------貼文分隔線--------------\n",
      "太誇張了~~多元\n",
      "元素截圖完成\n",
      "--------------貼文分隔線--------------\n",
      "新作緩慢制制作中\n",
      "比想像中難畫，希望有完成的一天\n",
      "元素截圖完成\n",
      "--------------貼文分隔線--------------\n",
      "｜#JIN BTS大哥金碩珍帥氣十足的敬軍禮 20240612正式退伍ꔛ\n",
      "12日上午，防彈少年團金碩珍在服役1年零6個月後，從京畿道漣川郡第5師新兵教育隊退伍。\n",
      "除了服役於替代役的SUGA未到之外，其餘成員皆來迎接碩珍回歸，各自穿著軍服或是私服一個一個給大哥碩珍擁抱\n",
      "金南俊還特地吹起了薩克斯風，雖然看起來非常好笑的樣貌\n",
      "但其實仔細聽會真的嚇到，要做到這個程度不容易！\n",
      "果然沒有他們做不到的事情呢\n",
      "（結果真正學\n",
      "的是南俊、進入特種部隊的是泰亨）\n",
      "完全相反的出乎意料。\n",
      "看他們這樣一起真好，有種實感呢\n",
      "防彈終於要一個一個回來了，感覺時間並不久 很快的會2025\n",
      "有著大哥回來的畫面後，更能想像7個人都退伍時\n",
      "又會像這樣，7個人站在一起行軍禮：喊著阿米 我回來了～\n",
      "ෆ Welcome back JIN \n",
      "•┈┈┈•┈┈┈•┈┈┈\n",
      "#Jin #jinbts #金碩珍 #金碩珍退伍 #防彈少年團 \n",
      "#BTS #V #Jimin #Jungkook #RM #Jhope #Suga \n",
      "By Ro\n",
      "元素截圖完成\n",
      "--------------貼文分隔線--------------\n",
      "用路人注意了!\n",
      "#台8線\n",
      "元素截圖完成\n",
      "--------------貼文分隔線--------------\n",
      "端午一過，夏天正式到來\n",
      "元素截圖完成\n",
      "--------------貼文分隔線--------------\n",
      "中壢火車站軌道切換「6／15深夜起列車停駛」　桃園=埔心採客運接駁\n",
      "因應桃園鐵路地下化工程，並配合中壢臨時前站及臨時月台啟用軌道切換施工。\n",
      "「6/15日深夜至6/16日清晨」部分列車截短行駛，區間車也將停駛，桃園到埔心間將採客運接駁，每5到10分鐘開一班。\n",
      "#桃園新聞 #中壢 #台鐵 #埔心 #taoyuan\n",
      "元素截圖完成\n",
      "---------------------------------\n",
      "共爬取 10 篇貼文\n",
      "['', '當初去日本參加Stance Nation  看到整排帥車陸續離場真的很興奮～～\\n在台灣你即將也可以看到這樣畫面了！\\n#SFT\\n#StanceFest\\n#stabber人車生活 \\n#stabber解析影影像 \\n#stancewalk', '光復南路跟市民大道交叉路口設備上線', '又踏入左F1賽季\\n，除左F1粉絲們追睇比賽直播外，亦有唔少fans選擇玩F1 24遊戲，可以令佢地感受、回味比賽氣紛。\\nSimagic FX Pro就係為F1遊戲設計軚環\\n。上面有大量按鈕、旋鈕及撥片，方便用家係雙手不離軚下可以操作不同功能。配合4.3\" LCD屏幕，可以即時顯示關於車輛本身不同資訊，令玩家掌握最新資訊，制定屬於自己既比賽策略。\\n門市商城同價，購買實體商品可獲雙倍紅利積分。\\nSimagic FX Pro方程式方向盤(6撥片)：https://www.openshop.com.hk/product_29598.html', '號稱高雄第二好吃的鍋燒\\n我比較好奇高雄第一好吃的鍋燒是', '動畫《寶可夢地平線：系列》本週劇圖\\n莉可在回橘子學院的路上遇到小安，除了結伴同行外也跟小安解釋太樂巴戈斯的故事', '太誇張了~~多元', '新作緩慢制制作中\\n比想像中難畫，希望有完成的一天', '｜#JIN BTS大哥金碩珍帥氣十足的敬軍禮 20240612正式退伍ꔛ\\n12日上午，防彈少年團金碩珍在服役1年零6個月後，從京畿道漣川郡第5師新兵教育隊退伍。\\n除了服役於替代役的SUGA未到之外，其餘成員皆來迎接碩珍回歸，各自穿著軍服或是私服一個一個給大哥碩珍擁抱\\n金南俊還特地吹起了薩克斯風，雖然看起來非常好笑的樣貌\\n但其實仔細聽會真的嚇到，要做到這個程度不容易！\\n果然沒有他們做不到的事情呢\\n（結果真正學\\n的是南俊、進入特種部隊的是泰亨）\\n完全相反的出乎意料。\\n看他們這樣一起真好，有種實感呢\\n防彈終於要一個一個回來了，感覺時間並不久 很快的會2025\\n有著大哥回來的畫面後，更能想像7個人都退伍時\\n又會像這樣，7個人站在一起行軍禮：喊著阿米 我回來了～\\nෆ Welcome back JIN \\n•┈┈┈•┈┈┈•┈┈┈\\n#Jin #jinbts #金碩珍 #金碩珍退伍 #防彈少年團 \\n#BTS #V #Jimin #Jungkook #RM #Jhope #Suga \\nBy Ro', '用路人注意了!\\n#台8線']\n"
     ]
    },
    {
     "ename": "",
     "evalue": "",
     "output_type": "error",
     "traceback": [
      "\u001b[1;31mThe Kernel crashed while executing code in the current cell or a previous cell. \n",
      "\u001b[1;31mPlease review the code in the cell(s) to identify a possible cause of the failure. \n",
      "\u001b[1;31mClick <a href='https://aka.ms/vscodeJupyterKernelCrash'>here</a> for more info. \n",
      "\u001b[1;31mView Jupyter <a href='command:jupyter.viewOutput'>log</a> for further details."
     ]
    }
   ],
   "source": [
    "import time\n",
    "\n",
    "posts_number = int(input(\"請輸入要爬取的貼文數量:\"))\n",
    "posts = [] \n",
    "\n",
    "driver.set_window_size(1000,4000)\n",
    "# 初始設定\n",
    "last_height = driver.execute_script(\"return document.body.scrollHeight\") # 取得頁面高度初始值\n",
    "last_count = 0 # 計算目前貼文數量\n",
    "\n",
    "feed = driver.find_element(By.CSS_SELECTOR, 'div[role=\"main\"]') # 找到動態頁面(鎖定貼文)\n",
    "while True:\n",
    "\n",
    "    # 如果已經找到足夠的貼文，則停止\n",
    "    if len(posts) >= posts_number:\n",
    "        posts = posts[:posts_number]\n",
    "        break\n",
    "    \n",
    "    # 貼文文字的 class selector\n",
    "    post_text_class_selector = 'div[data-ad-preview=\"message\"]'\n",
    "    \n",
    "    # 捕捉所有貼文元素\n",
    "    \n",
    "    elements = feed.find_elements(By.CSS_SELECTOR, 'div[class = x1lliihq]')\n",
    "    current_count = len(elements)    \n",
    "    if current_count == 0:\n",
    "        elements = feed.find_elements(By.CSS_SELECTOR, '[data-pagelet]')\n",
    "        current_count = len(elements)\n",
    "    print(last_count,current_count)\n",
    "    \n",
    "\n",
    "    if current_count != last_count:\n",
    "        try:\n",
    "            print(\"!!! 檢查當前是否有 「查看更多」 Button !!!\")\n",
    "            buttons = WebDriverWait(driver, 10).until(EC.presence_of_all_elements_located((By.XPATH, \"//div[contains(text(), '查看更多') and @role='button']\")))\n",
    "            for button in buttons:\n",
    "\n",
    "                # 滾動到按鈕位置\n",
    "                driver.execute_script(\"arguments[0].scrollIntoView(true);\", button)\n",
    "                WebDriverWait(driver, 5).until(EC.visibility_of(button))\n",
    "                # 使用 JavaScript 強制點擊按鈕\n",
    "                driver.execute_script(\"arguments[0].click();\", button)\n",
    "                print('Button clicked!')\n",
    "        except Exception as e:\n",
    "            print(f\"當前無「查看更多」 Button\")\n",
    "            pass\n",
    "\n",
    "        print('!!! 檢查完畢 !!!')\n",
    "        # 只處理新出現的 elements\n",
    "        new_elements = elements[last_count:]\n",
    "        for element in enumerate(new_elements):\n",
    "            try:\n",
    "                print('--------------貼文分隔線--------------')\n",
    "                element_post = element[1].find_element(By.CSS_SELECTOR, post_text_class_selector)\n",
    "                posts.append(element_post.text)\n",
    "                print(element_post.text)\n",
    "                # width = element[1].execute_script(\"return document.documentElement.scrollWidth\")\n",
    "                # height = element[1].execute_script(\"return document.documentElement.scrollHeight\")\n",
    "                \n",
    "\n",
    "\n",
    "                # 滾動到元素位置\n",
    "                # driver.execute_script(\"arguments[0].scrollIntoView();\", element[1])\n",
    "                time.sleep(3)  # 等待滾動完成\n",
    "\n",
    "                # 對元素進行截圖\n",
    "                element[1].screenshot(f\"./photo/{int(time.time() * 1000)}.png\")\n",
    "                print(\"元素截圖完成\")\n",
    "            except:\n",
    "                print('此篇非普通貼文，跳過處理')\n",
    "        print('---------------------------------')\n",
    "        # 更新 last_count\n",
    "        last_count = current_count\n",
    "\n",
    "    # 計算新的滾動高度並比較是否到達底部\n",
    "    new_height = driver.execute_script(\"return document.body.scrollHeight\")\n",
    "    last_height = new_height\n",
    "\n",
    "    # 滾動到頁面底部\n",
    "    driver.execute_script(\"window.scrollTo(0, document.body.scrollHeight);\")\n",
    "\n",
    "    # 等待新內容加載(秒)\n",
    "    time.sleep(4)\n",
    "\n",
    "print('共爬取', len(posts), '篇貼文')\n",
    "print(posts)\n",
    "# driver.refresh()"
   ]
  },
  {
   "cell_type": "code",
   "execution_count": 20,
   "metadata": {},
   "outputs": [
    {
     "name": "stdout",
     "output_type": "stream",
     "text": [
      "网页模块尺寸:height=2084,width=603\n",
      "截图尺寸:height=1558,width=670\n"
     ]
    }
   ],
   "source": [
    "from PIL import Image\n",
    "\n",
    "width = driver.execute_script(\"return document.documentElement.scrollWidth\")\n",
    "height = driver.execute_script(\"return document.documentElement.scrollHeight\")\n",
    "driver.set_window_size(width,height)\n",
    "\n",
    "feed = driver.find_element(By.CSS_SELECTOR, 'div[role=\"main\"]') # 找到動態頁面(鎖定貼文)\n",
    "print('网页模块尺寸:height={},width={}'.format(feed.size['height'],feed.size['width']))\n",
    "\n",
    "feed.screenshot('feed.png')\n",
    "im=Image.open('feed.png')\n",
    "print(\"截图尺寸:height={},width={}\".format(im.size[1],im.size[0]))"
   ]
  },
  {
   "cell_type": "code",
   "execution_count": 44,
   "metadata": {},
   "outputs": [
    {
     "name": "stdout",
     "output_type": "stream",
     "text": [
      "Current Timestamp in milliseconds: 1718200121257\n"
     ]
    }
   ],
   "source": [
    "import time\n",
    "\n",
    "current_timestamp_ms = int(time.time() * 1000)\n",
    "print(f\"Current Timestamp in milliseconds: {current_timestamp_ms}\")"
   ]
  },
  {
   "cell_type": "code",
   "execution_count": null,
   "metadata": {},
   "outputs": [],
   "source": []
  }
 ],
 "metadata": {
  "kernelspec": {
   "display_name": "Python 3",
   "language": "python",
   "name": "python3"
  },
  "language_info": {
   "codemirror_mode": {
    "name": "ipython",
    "version": 3
   },
   "file_extension": ".py",
   "mimetype": "text/x-python",
   "name": "python",
   "nbconvert_exporter": "python",
   "pygments_lexer": "ipython3",
   "version": "3.10.11"
  }
 },
 "nbformat": 4,
 "nbformat_minor": 2
}
