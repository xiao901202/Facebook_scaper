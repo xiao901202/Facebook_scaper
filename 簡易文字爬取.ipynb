{
 "cells": [
  {
   "cell_type": "markdown",
   "metadata": {},
   "source": [
    "## 瀏覽器&套件設定"
   ]
  },
  {
   "cell_type": "code",
   "execution_count": 21,
   "metadata": {
    "ExecuteTime": {
     "end_time": "2024-06-14T05:29:24.247423Z",
     "start_time": "2024-06-14T05:29:24.085424Z"
    }
   },
   "outputs": [],
   "source": [
    "from selenium.webdriver.chrome.service import Service as ChromeService\n",
    "from selenium import webdriver\n",
    "from webdriver_manager.chrome import ChromeDriverManager\n",
    "\n",
    "from selenium.webdriver.common.keys import Keys\n",
    "from selenium.webdriver.common.by import By\n",
    "from selenium.webdriver.support.ui import WebDriverWait\n",
    "from selenium.webdriver.support import expected_conditions as EC\n",
    "from selenium.webdriver.common.action_chains import ActionChains\n",
    "import time"
   ]
  },
  {
   "cell_type": "code",
   "execution_count": 22,
   "metadata": {
    "ExecuteTime": {
     "end_time": "2024-06-14T05:42:49.627193Z",
     "start_time": "2024-06-14T05:42:49.610193Z"
    }
   },
   "outputs": [],
   "source": [
    "# 擋掉通知黑屏，以防止瀏覽器第一次登入時跳出通知視窗\n",
    "options = webdriver.ChromeOptions()\n",
    "options.add_experimental_option(\"prefs\", {\n",
    "    \"profile.default_content_setting_values.notifications\": 2\n",
    "})"
   ]
  },
  {
   "cell_type": "code",
   "execution_count": 23,
   "metadata": {
    "ExecuteTime": {
     "end_time": "2024-06-14T05:42:50.550183Z",
     "start_time": "2024-06-14T05:42:50.540181Z"
    }
   },
   "outputs": [],
   "source": [
    "options.add_argument('--headless') # colab上須加上headless，表不使用GUI背景執行\n",
    "options.add_argument('--no-sandbox')\n",
    "options.headless = True"
   ]
  },
  {
   "cell_type": "markdown",
   "metadata": {},
   "source": [
    "## 自動登入"
   ]
  },
  {
   "cell_type": "code",
   "execution_count": 24,
   "metadata": {
    "ExecuteTime": {
     "end_time": "2024-06-14T05:43:02.411019Z",
     "start_time": "2024-06-14T05:42:52.915150Z"
    }
   },
   "outputs": [
    {
     "name": "stdout",
     "output_type": "stream",
     "text": [
      "登入成功\n"
     ]
    }
   ],
   "source": [
    "# ------ 登入的帳號與密碼 ------\n",
    "# username = str(input(\"請輸入帳號：\"))\n",
    "username = \"xiao901202@gmail.com\"\n",
    "# password = str(input(\"請輸入密碼：\"))\n",
    "password=\"qwerasdf520\"\n",
    "driver = webdriver.Chrome(service=ChromeService(ChromeDriverManager().install()), options=options)\n",
    "\n",
    "url = 'https://www.facebook.com'  \n",
    "driver.get(url)\n",
    "\n",
    "WebDriverWait(driver, 30).until(EC.presence_of_element_located((By.XPATH, '//*[@id=\"email\"]')))\n",
    "\n",
    "elem = driver.find_element(By.ID,\"email\")\n",
    "elem.send_keys(username)\n",
    "\n",
    "elem = driver.find_element(By.ID,\"pass\")\n",
    "elem.send_keys(password)\n",
    "\n",
    "\n",
    "# 提交登入\n",
    "elem.send_keys(Keys.RETURN)\n",
    "time.sleep(5)\n",
    "\n",
    "# 檢查有沒有被擋下來\n",
    "if len(driver.find_elements(By.XPATH,\"//*[contains(text(), '你的帳號暫時被鎖住')]\")) > 0:\n",
    "    driver.find_elements(By.XPATH,\"//*[contains(text(), '是')]\")[1].click()\n",
    "elif len(driver.find_elements(By.XPATH, \"//*[contains(text(), '用戶名稱或密碼無效')]\")) > 0:\n",
    "    print(\"登入失敗，請檢查帳號密碼是否正確\")\n",
    "elif len(driver.find_elements(By.XPATH, \"//*[contains(text(), 'Invalid username or password')]\")) > 0:\n",
    "    print(\"登入失敗，請檢查帳號密碼是否正確\")\n",
    "else:\n",
    "    feed = WebDriverWait(driver, 10).until(EC.presence_of_element_located((By.CSS_SELECTOR, 'div[role=\"main\"]'))) # 等待動態頁面(鎖定貼文)加載完成\n",
    "    print(\"登入成功\")"
   ]
  },
  {
   "cell_type": "markdown",
   "metadata": {},
   "source": [
    "## 純貼文爬取"
   ]
  },
  {
   "cell_type": "code",
   "outputs": [],
   "source": [
    "import base64\n",
    "\n",
    "\n",
    "def image_to_data_url(image_path: str):\n",
    "    # 開啟圖片文件\n",
    "    with open(image_path, 'rb') as image_file:\n",
    "        # 讀取圖片數據\n",
    "        image_data = image_file.read()\n",
    "\n",
    "    # 獲取 MIME 類型（這裡以 PNG 為例，根據你的圖片類型進行調整）\n",
    "    mime_type = 'image/png' if image_path.endswith('.png') else 'image/jpeg'\n",
    "\n",
    "    # 編碼圖片數據\n",
    "    base64_encoded_data = base64.b64encode(image_data)\n",
    "\n",
    "    # 轉換為字符串並格式化為 Data URL\n",
    "    base64_data_url = f'data:{mime_type};base64,{base64_encoded_data.decode()}'\n",
    "\n",
    "    return base64_data_url"
   ],
   "metadata": {
    "collapsed": false,
    "ExecuteTime": {
     "end_time": "2024-06-14T05:43:04.447992Z",
     "start_time": "2024-06-14T05:43:04.429992Z"
    }
   },
   "execution_count": 25
  },
  {
   "cell_type": "code",
   "outputs": [],
   "source": [
    "from openai import OpenAI\n",
    "\n",
    "key = ''\n",
    "with open(\"key.txt\", \"r\") as f:\n",
    "    key = f.read()\n",
    "    f.close()\n",
    "\n",
    "client = OpenAI(api_key=key)\n",
    "\n",
    "\n",
    "def get_post_category(image_url):\n",
    "    response = client.chat.completions.create(\n",
    "        model=\"gpt-4o\",\n",
    "        messages=[\n",
    "            {\n",
    "                \"role\": \"system\",\n",
    "                \"content\": [\n",
    "                    {\n",
    "                        \"type\": \"text\",\n",
    "                        \"text\": \"這是我設計的臉書可能有之貼文類型：\\n政治包括對政策、政治事件、選舉和政治人物的討論或意見\\n心情/情感分享 分享個人的情緒狀態、心情好壞、生活中的盧受和經歷·\\n廣告/推廣 包含推銷產品、服務咸活動的信息·可能來自個人或企業帳號·\\n生活日常 分享日常生活的點滴·如日常活動、家庭生活、個人愛好 等\\n新聞/時事 談論時事新聞、社會事件、重大發生等\\n教育/學習 分享教育相開內容、學習資源、課程信息等·\\n勵志/名言 包含勵志語錄、名人名宮、個人創造的正面能量語句\\n問題諮詢 尋求幫助、建議、意見交流的貼文、涉及生活、工作、情感 等方面的問題\\n活動邀請/公告 包括聚會邀請·活動宣傳、特別公告等\\n旅遊分享 分享旅行經驗、旅遊計劃或心得·\\n美食分享 談論美食、分享食譜、餐觀推薦等\\n藝術/創作 分享個人的創作、藝衛作品、文學作品等\\n健康/運動 談論健康話題、運動心得、健身技巧等·\\n科技/數碼 分享科技新聞、數碼產品評瀾、使用心得等·\\n商業/經濟 討論商業動態·經濟趨勢、市塌分析等·\\n宗教/信仰分享宗教信仰相關的釀悟、活動·節日信息等·\\n娛樂 \\n\\n接下來我會貼給你一個臉書貼文，請直接告訴我覺得是哪一個不要有其他任何文字\"\n",
    "                    }\n",
    "                ]\n",
    "            },\n",
    "            {\n",
    "                \"role\": \"user\",\n",
    "                \"content\": [\n",
    "                    {\n",
    "                        \"type\": \"image_url\",\n",
    "                        \"image_url\": {\"url\": image_url}\n",
    "                    }\n",
    "                ]\n",
    "            }\n",
    "        ],\n",
    "        temperature=0,\n",
    "        max_tokens=256,\n",
    "        top_p=1,\n",
    "        frequency_penalty=0,\n",
    "        presence_penalty=0\n",
    "    )\n",
    "    return response.choices[0].message.content"
   ],
   "metadata": {
    "collapsed": false,
    "ExecuteTime": {
     "end_time": "2024-06-14T05:43:06.222968Z",
     "start_time": "2024-06-14T05:43:06.196968Z"
    }
   },
   "execution_count": 26
  },
  {
   "cell_type": "code",
   "outputs": [],
   "source": [
    "import time\n",
    "\n",
    "posts_number = int(input(\"請輸入要爬取的貼文數量:\"))\n",
    "posts = [] \n",
    "\n",
    "driver.set_window_size(1000,4000)\n",
    "# 初始設定\n",
    "last_height = driver.execute_script(\"return document.body.scrollHeight\") # 取得頁面高度初始值\n",
    "last_count = 0 # 計算目前貼文數量\n",
    "\n",
    "feed = driver.find_element(By.CSS_SELECTOR, 'div[role=\"main\"]') # 找到動態頁面(鎖定貼文)\n",
    "while True:\n",
    "    # 如果已經找到足夠的貼文，則停止\n",
    "    if len(posts) >= posts_number:\n",
    "        posts = posts[:posts_number]\n",
    "        break\n",
    "    \n",
    "    # 貼文文字的 class selector\n",
    "    post_text_class_selector = 'div[data-ad-preview=\"message\"]'\n",
    "    \n",
    "    # 捕捉所有貼文元素\n",
    "    \n",
    "    elements = feed.find_elements(By.CSS_SELECTOR, 'div[class = x1lliihq]')\n",
    "    current_count = len(elements)    \n",
    "    if current_count == 0:\n",
    "        elements = feed.find_elements(By.CSS_SELECTOR, '[data-pagelet]')\n",
    "        current_count = len(elements)\n",
    "    print(last_count,current_count)\n",
    "    \n",
    "\n",
    "    if current_count != last_count:\n",
    "        try:\n",
    "            print(\"!!! 檢查當前是否有 「查看更多」 Button !!!\")\n",
    "            buttons = WebDriverWait(driver, 10).until(EC.presence_of_all_elements_located((By.XPATH, \"//div[contains(text(), '查看更多') and @role='button']\")))\n",
    "            for button in buttons:\n",
    "\n",
    "                # 滾動到按鈕位置\n",
    "                driver.execute_script(\"arguments[0].scrollIntoView(true);\", button)\n",
    "                WebDriverWait(driver, 5).until(EC.visibility_of(button))\n",
    "                # 使用 JavaScript 強制點擊按鈕\n",
    "                driver.execute_script(\"arguments[0].click();\", button)\n",
    "                print('Button clicked!')\n",
    "        except Exception as e:\n",
    "            print(f\"當前無「查看更多」 Button\")\n",
    "            pass\n",
    "\n",
    "        print('!!! 檢查完畢 !!!')\n",
    "        while len(posts) < posts_number and len(elements) > last_count\n",
    "            current_element = elements[last_count]\n",
    "            last_count += 1\n",
    "            try:\n",
    "                print('--------------貼文分隔線--------------')\n",
    "                element_post = current_element.find_element(By.CSS_SELECTOR, post_text_class_selector)\n",
    "                post_text = element_post.text\n",
    "                current_element.screenshot('element_screenshot.png')\n",
    "                print(\"元素截圖完成\")\n",
    "                screenshot_base64 = image_to_data_url('element_screenshot.png')\n",
    "                category = get_post_category(screenshot_base64)\n",
    "                posts.append({\n",
    "                    'text': post_text, 'image': screenshot_base64, 'category': category\n",
    "                })\n",
    "                print(len(posts),post_text,category )\n",
    "            except Exception as e:\n",
    "                print(e)\n",
    "                print('此篇非普通貼文，跳過處理')\n",
    "        print('---------------------------------')\n",
    "\n",
    "    # 計算新的滾動高度並比較是否到達底部\n",
    "    new_height = driver.execute_script(\"return document.body.scrollHeight\")\n",
    "    last_height = new_height\n",
    "\n",
    "    # 滾動到頁面底部\n",
    "    driver.execute_script(\"window.scrollTo(0, document.body.scrollHeight);\")\n",
    "\n",
    "    # 等待新內容加載(秒)\n",
    "    time.sleep(4)\n",
    "\n",
    "print('共爬取', len(posts), '篇貼文')\n",
    "print(posts)\n",
    "# driver.refresh()"
   ],
   "metadata": {
    "collapsed": false,
    "ExecuteTime": {
     "end_time": "2024-06-14T06:01:18.555356Z",
     "start_time": "2024-06-14T06:00:32.068479Z"
    }
   },
   "execution_count": 27
  },
  {
   "cell_type": "code",
   "outputs": [
    {
     "name": "stdout",
     "output_type": "stream",
     "text": [
      "0 6\n",
      "!!! 檢查當前是否有 「查看更多」 Button !!!\n",
      "Button clicked!\n",
      "Button clicked!\n",
      "Button clicked!\n",
      "!!! 檢查完畢 !!!\n",
      "--------------貼文分隔線--------------\n",
      "Message: no such element: Unable to locate element: {\"method\":\"css selector\",\"selector\":\"div[data-ad-preview=\"message\"]\"}\n",
      "  (Session info: chrome-headless-shell=126.0.6478.62); For documentation on this error, please visit: https://www.selenium.dev/documentation/webdriver/troubleshooting/errors#no-such-element-exception\n",
      "Stacktrace:\n",
      "0   chromedriver                        0x000000010141ba38 chromedriver + 4389432\n",
      "1   chromedriver                        0x0000000101414344 chromedriver + 4358980\n",
      "2   chromedriver                        0x0000000101030afc chromedriver + 281340\n",
      "3   chromedriver                        0x00000001010732c8 chromedriver + 553672\n",
      "4   chromedriver                        0x0000000101069718 chromedriver + 513816\n",
      "5   chromedriver                        0x00000001010abcec chromedriver + 785644\n",
      "6   chromedriver                        0x0000000101067ed0 chromedriver + 507600\n",
      "7   chromedriver                        0x00000001010688a8 chromedriver + 510120\n",
      "8   chromedriver                        0x00000001013e33bc chromedriver + 4158396\n",
      "9   chromedriver                        0x00000001013e7e20 chromedriver + 4177440\n",
      "10  chromedriver                        0x00000001013c907c chromedriver + 4051068\n",
      "11  chromedriver                        0x00000001013e870c chromedriver + 4179724\n",
      "12  chromedriver                        0x00000001013bc07c chromedriver + 3997820\n",
      "13  chromedriver                        0x00000001014060d4 chromedriver + 4301012\n",
      "14  chromedriver                        0x0000000101406250 chromedriver + 4301392\n",
      "15  chromedriver                        0x0000000101413f3c chromedriver + 4357948\n",
      "16  libsystem_pthread.dylib             0x0000000185356f94 _pthread_start + 136\n",
      "17  libsystem_pthread.dylib             0x0000000185351d34 thread_start + 8\n",
      "\n",
      "此篇非普通貼文，跳過處理\n",
      "--------------貼文分隔線--------------\n",
      "元素截圖完成\n",
      "1 【Logitech】618年中最大特價月 \n",
      "登記再送總值過千禮物\n",
      "\\\\PRO X SUPERLIGHT 2 無線電競滑鼠 //\n",
      "搶先價$1,299，即減$200\n",
      "即送鬼滅滑鼠墊，滿額登記再送Foodpanda 現金券 + Steam Card\n",
      "\\\\ PRO X TKL 無線機械電競鍵盤 //\n",
      "搶先價$1,699，即減$100\n",
      "即送鬼滅滑鼠墊／ G 滑鼠墊，滿額登記再送Foodpanda 現金券 + Steam Card\n",
      "\\\\ G502 X LIGHTSPEED 無線遊戲滑鼠 //\n",
      "搶先價$999，激抵77折\n",
      "即送G640 滑鼠墊，滿額登記再送Foodpanda 現金券\n",
      "\\\\ G502 X PLUS 無線遊戲滑鼠 //\n",
      "搶先價$1,099，激抵79折\n",
      "即送G640 滑鼠墊，滿額登記再送Foodpanda 現金券\n",
      "\\\\ G512 LIGHTSYNC 機械遊戲鍵盤 //\n",
      "- GX青軸/GX紅軸/GX茶軸\n",
      "搶先價$659，激抵66折\n",
      "即送鬼滅滑鼠墊／ G 滑鼠墊，滿額登記再送Foodpanda 現金券\n",
      "\\\\ G913 LIGHTSPEED 無線 RGB 機械鍵盤  //\n",
      "- 觸感軸/ 線性軸/ 青軸\n",
      "搶先價$1,199，激抵57折\n",
      "即送鬼滅滑鼠墊／ G 滑鼠墊，滿額登記再送Foodpanda 現金券\n",
      "618 年中至抵攻略，限時限量送大禮！\n",
      "請你食飯： 消費滿額登記即送Foodpanda現金券，$1,000送$50、滿$1,500送$100\n",
      "聽歌要用好喇叭： 消費滿$2,500送  \\\\ WONDERBOOM3藍牙喇叭 //\n",
      "買好GAME： 買PRO電競系列登記送 \\\\ $100 Steam Card //\n",
      "PRO柱之力：買指定耳機/鍵盤/滑鼠即送 \\\\ 鬼滅之刃聯名產品//\n",
      "立刻加入購物車\n",
      "https://2000fun.app/W2FN55\n",
      "-----\n",
      "記住嚟呢到登記換領禮物：https://lp.logitechclub.com/promo/hk/\n",
      "#Logitech #LogitechHK #618 #狂熱購物節 廣告/推廣\n",
      "--------------貼文分隔線--------------\n",
      "元素截圖完成\n",
      "2 「黑色既謙虛又浪漫、既輕鬆又懶惰，而且神秘…」～ 山本耀司 #黑色潮流 \n",
      "-\n",
      " 立即選購：https://ajtime.cc/xxAf2\n",
      "-\n",
      " 瞭解更多：https://ajtime.cc/xLGym\n",
      "-\n",
      "#寶加地 ￼\n",
      "#碳纖維X鈦合金之完美傑作 \n",
      "#日本MIYOTA自動上鍊機械機芯\n",
      "-\n",
      "《碳纖魅影-魅影黑》在設計上承繼品牌德式製錶的工藝精髓，以多層次立體疊砌的方式，為錶款賦予最穩固的結構。上錶圈及底蓋邊框使用與錶款同名的碳纖維材質打造，中殼部分則使用航太領域的高科技鈦合金材質。其中碳纖維擁有高硬度、高強度的物理特性，但重量較傳統不鏽鋼輕很多，是專業賽車的熱門材質。\n",
      "-\n",
      " 寶加地授權實體經銷點\n",
      "台北 \n",
      "昊鋒寶加地直營店｜02-25991186 | 台北市中山區南京東路三段201號9樓\n",
      "新北\n",
      "寶儀鐘錶｜02-29688069｜新北市板橋區南門街51號（捷運府中站一號出口）\n",
      "台中  \n",
      "橘屋時計｜04-26526089｜台中市龍井區台灣大道五段3巷76號\n",
      "高雄\n",
      "安格時計｜07-5535112｜高雄市鼓山區美術東四路440號1樓 廣告/推廣\n",
      "--------------貼文分隔線--------------\n",
      "Message: no such element: Unable to locate element: {\"method\":\"css selector\",\"selector\":\"div[data-ad-preview=\"message\"]\"}\n",
      "  (Session info: chrome-headless-shell=126.0.6478.62); For documentation on this error, please visit: https://www.selenium.dev/documentation/webdriver/troubleshooting/errors#no-such-element-exception\n",
      "Stacktrace:\n",
      "0   chromedriver                        0x000000010141ba38 chromedriver + 4389432\n",
      "1   chromedriver                        0x0000000101414344 chromedriver + 4358980\n",
      "2   chromedriver                        0x0000000101030afc chromedriver + 281340\n",
      "3   chromedriver                        0x00000001010732c8 chromedriver + 553672\n",
      "4   chromedriver                        0x0000000101069718 chromedriver + 513816\n",
      "5   chromedriver                        0x00000001010abcec chromedriver + 785644\n",
      "6   chromedriver                        0x0000000101067ed0 chromedriver + 507600\n",
      "7   chromedriver                        0x00000001010688a8 chromedriver + 510120\n",
      "8   chromedriver                        0x00000001013e33bc chromedriver + 4158396\n",
      "9   chromedriver                        0x00000001013e7e20 chromedriver + 4177440\n",
      "10  chromedriver                        0x00000001013c907c chromedriver + 4051068\n",
      "11  chromedriver                        0x00000001013e870c chromedriver + 4179724\n",
      "12  chromedriver                        0x00000001013bc07c chromedriver + 3997820\n",
      "13  chromedriver                        0x00000001014060d4 chromedriver + 4301012\n",
      "14  chromedriver                        0x0000000101406250 chromedriver + 4301392\n",
      "15  chromedriver                        0x0000000101413f3c chromedriver + 4357948\n",
      "16  libsystem_pthread.dylib             0x0000000185356f94 _pthread_start + 136\n",
      "17  libsystem_pthread.dylib             0x0000000185351d34 thread_start + 8\n",
      "\n",
      "此篇非普通貼文，跳過處理\n",
      "--------------貼文分隔線--------------\n",
      "元素截圖完成\n",
      "3 看這部番的時候，\n",
      "有時候真的不知道自己是蘿莉控，\n",
      "還是正太控，然後看到這表情之後，\n",
      "有點懷疑自己是抖M了…\n",
      "#轉生為第七王子隨心所欲的魔法學習之路\n",
      "#転生したら第七王子 娛樂\n",
      "--------------貼文分隔線--------------\n",
      "元素截圖完成\n",
      "4 #分享\n",
      "等待大傢伙的到來 生活日常\n",
      "---------------------------------\n",
      "6 16\n",
      "!!! 檢查當前是否有 「查看更多」 Button !!!\n",
      "Button clicked!\n",
      "Button clicked!\n",
      "!!! 檢查完畢 !!!\n",
      "--------------貼文分隔線--------------\n",
      "元素截圖完成\n",
      "5 今年最後一個連假再賺一波！訂房率雖然不如清明連假爆滿，但還是來了很多觀光客～ 新聞/時事\n",
      "--------------貼文分隔線--------------\n",
      "元素截圖完成\n",
      "6 SMILE PRO近視雷射，安全嗎\n",
      "會有副作用嗎\n",
      "我適合嗎\n",
      "這麼重要的部位，醫師真的夠專業嗎\n",
      "好想脫離眼鏡一族，但心裡總是充滿不確定\n",
      "安全x專業，是我們的首要宗旨\n",
      "【遠見眼科】 3大堅持，陪你安心重拾清晰\n",
      "預約諮詢\n",
      " https://fmurl.cc/QQDAO\n",
      "➊認證手術醫師團隊\n",
      "#德國原廠Global等級雷射顧問醫師\n",
      "#眼科醫學會現場手術示範醫師\n",
      "張聰麒醫師帶領的專業團隊\n",
      "醫界專業指標，值得您信賴\n",
      "➋高標準21 ⁺精密檢測\n",
      "術前21項+完善檢查\n",
      "增加保留角膜厚度\n",
      "手術安全性放第一\n",
      "❸醫界信賴的好技術\n",
      "遠見團隊連醫師也信賴\n",
      "已為數百位醫師施作手術\n",
      "醫師的醫師，絕對是您重拾晶亮的安心選擇！\n",
      "馬上諮詢，展開新視界\n",
      " https://fmurl.cc/QQDAO\n",
      "#遠見眼科 #近視雷射 #SmilePRO近視雷射 廣告/推廣\n",
      "--------------貼文分隔線--------------\n",
      "元素截圖完成\n",
      "7 DJI Osmo Pocket 3 現貨發售中\n",
      "。\n",
      "全新 Pocket 3 採用性能強大的 1 英吋感光元件，支援拍攝規格高達 4K/120fps 的 10-bit 影片，輕鬆收錄精彩畫面。Pocket 3 搭載 2 英吋旋轉螢幕，配合全像素疾速對焦，無論橫拍還是直拍，每個片段都能完美對焦。Pocket 3 還有一系列升級的智慧功能，其中智慧跟隨 6.0 包括主角跟隨和預構圖跟隨等，能將被追蹤主體牢牢鎖定在畫面中；即使自拍，操作亦非常便捷。\n",
      "再加上三軸雲台機械增穩和立體聲收音，Pocket 3 可以滿足你的創作需求，助你隨時隨地拍出亮眼的視覺效果。\n",
      "一寸光陰，一手掌握：https://www.openshop.com.hk/product_30425.html 廣告/推廣\n",
      "--------------貼文分隔線--------------\n",
      "元素截圖完成\n",
      "8 【售】幽靈扇魔改套組（只有9pin線） 全新intel腳位（支援1700）+利民1700扣具\n",
      "【保固】無\n",
      "【價格】800\n",
      "【面交地點】台北內湖東湖面交or賣貨\n",
      "【備註】功能正常 我itx 散熱器用不到 廣告/推廣\n",
      "--------------貼文分隔線--------------\n",
      "元素截圖完成\n",
      "9 新北面交轉帳 廣告/推廣\n",
      "--------------貼文分隔線--------------\n",
      "元素截圖完成\n",
      "10 售：喜傑獅RZ-360-十代16吋電競筆電\n",
      "規格：\n",
      "螢幕：16吋144Hz\n",
      "處理器：i5-10400（6核12緒\n",
      "顯示卡：GTX-1650-4G\n",
      "記憶卡：16Gx1\n",
      "硬碟：256-SSd\n",
      "系統：Win10 Office\n",
      "配件-變壓器\n",
      "備註：\n",
      "電池剛換新的！功能都正常\n",
      "Intel® 桌機i5十代CPU效能超強！速度更快！可拆式\n",
      "16.1吋 144Hz Full HD 1920 x 1080sRGB 100% (72% NTSC廣色域）超視角清晰IPS面板技術 原生霧面Anti-Glare抗眩光!比市面上一些大廠牌低色域電競筆電好雲林可面交！\n",
      "售：15000$$ 廣告/推廣\n",
      "---------------------------------\n",
      "共爬取 10 篇貼文\n",
      "[{'text': '【Logitech】618年中最大特價月 \\n登記再送總值過千禮物\\n\\\\\\\\PRO X SUPERLIGHT 2 無線電競滑鼠 //\\n搶先價$1,299，即減$200\\n即送鬼滅滑鼠墊，滿額登記再送Foodpanda 現金券 + Steam Card\\n\\\\\\\\ PRO X TKL 無線機械電競鍵盤 //\\n搶先價$1,699，即減$100\\n即送鬼滅滑鼠墊／ G 滑鼠墊，滿額登記再送Foodpanda 現金券 + Steam Card\\n\\\\\\\\ G502 X LIGHTSPEED 無線遊戲滑鼠 //\\n搶先價$999，激抵77折\\n即送G640 滑鼠墊，滿額登記再送Foodpanda 現金券\\n\\\\\\\\ G502 X PLUS 無線遊戲滑鼠 //\\n搶先價$1,099，激抵79折\\n即送G640 滑鼠墊，滿額登記再送Foodpanda 現金券\\n\\\\\\\\ G512 LIGHTSYNC 機械遊戲鍵盤 //\\n- GX青軸/GX紅軸/GX茶軸\\n搶先價$659，激抵66折\\n即送鬼滅滑鼠墊／ G 滑鼠墊，滿額登記再送Foodpanda 現金券\\n\\\\\\\\ G913 LIGHTSPEED 無線 RGB 機械鍵盤  //\\n- 觸感軸/ 線性軸/ 青軸\\n搶先價$1,199，激抵57折\\n即送鬼滅滑鼠墊／ G 滑鼠墊，滿額登記再送Foodpanda 現金券\\n618 年中至抵攻略，限時限量送大禮！\\n請你食飯： 消費滿額登記即送Foodpanda現金券，$1,000送$50、滿$1,500送$100\\n聽歌要用好喇叭： 消費滿$2,500送  \\\\\\\\ WONDERBOOM3藍牙喇叭 //\\n買好GAME： 買PRO電競系列登記送 \\\\\\\\ $100 Steam Card //\\nPRO柱之力：買指定耳機/鍵盤/滑鼠即送 \\\\\\\\ 鬼滅之刃聯名產品//\\n立刻加入購物車\\nhttps://2000fun.app/W2FN55\\n-----\\n記住嚟呢到登記換領禮物：https://lp.logitechclub.com/promo/hk/\\n#Logitech #LogitechHK #618 #狂熱購物節', 'image': './res/1718349599390/1718349602485.png', 'category': '廣告/推廣'}, {'text': '「黑色既謙虛又浪漫、既輕鬆又懶惰，而且神秘…」～ 山本耀司 #黑色潮流 \\n-\\n 立即選購：https://ajtime.cc/xxAf2\\n-\\n 瞭解更多：https://ajtime.cc/xLGym\\n-\\n#寶加地 ￼\\n#碳纖維X鈦合金之完美傑作 \\n#日本MIYOTA自動上鍊機械機芯\\n-\\n《碳纖魅影-魅影黑》在設計上承繼品牌德式製錶的工藝精髓，以多層次立體疊砌的方式，為錶款賦予最穩固的結構。上錶圈及底蓋邊框使用與錶款同名的碳纖維材質打造，中殼部分則使用航太領域的高科技鈦合金材質。其中碳纖維擁有高硬度、高強度的物理特性，但重量較傳統不鏽鋼輕很多，是專業賽車的熱門材質。\\n-\\n 寶加地授權實體經銷點\\n台北 \\n昊鋒寶加地直營店｜02-25991186 | 台北市中山區南京東路三段201號9樓\\n新北\\n寶儀鐘錶｜02-29688069｜新北市板橋區南門街51號（捷運府中站一號出口）\\n台中  \\n橘屋時計｜04-26526089｜台中市龍井區台灣大道五段3巷76號\\n高雄\\n安格時計｜07-5535112｜高雄市鼓山區美術東四路440號1樓', 'image': './res/1718349599390/1718349606931.png', 'category': '廣告/推廣'}, {'text': '看這部番的時候，\\n有時候真的不知道自己是蘿莉控，\\n還是正太控，然後看到這表情之後，\\n有點懷疑自己是抖M了…\\n#轉生為第七王子隨心所欲的魔法學習之路\\n#転生したら第七王子', 'image': './res/1718349599390/1718349610807.png', 'category': '娛樂'}, {'text': '#分享\\n等待大傢伙的到來', 'image': './res/1718349599390/1718349613363.png', 'category': '生活日常'}, {'text': '今年最後一個連假再賺一波！訂房率雖然不如清明連假爆滿，但還是來了很多觀光客～', 'image': './res/1718349599390/1718349621963.png', 'category': '新聞/時事'}, {'text': 'SMILE PRO近視雷射，安全嗎\\n會有副作用嗎\\n我適合嗎\\n這麼重要的部位，醫師真的夠專業嗎\\n好想脫離眼鏡一族，但心裡總是充滿不確定\\n安全x專業，是我們的首要宗旨\\n【遠見眼科】 3大堅持，陪你安心重拾清晰\\n預約諮詢\\n https://fmurl.cc/QQDAO\\n➊認證手術醫師團隊\\n#德國原廠Global等級雷射顧問醫師\\n#眼科醫學會現場手術示範醫師\\n張聰麒醫師帶領的專業團隊\\n醫界專業指標，值得您信賴\\n➋高標準21 ⁺精密檢測\\n術前21項+完善檢查\\n增加保留角膜厚度\\n手術安全性放第一\\n❸醫界信賴的好技術\\n遠見團隊連醫師也信賴\\n已為數百位醫師施作手術\\n醫師的醫師，絕對是您重拾晶亮的安心選擇！\\n馬上諮詢，展開新視界\\n https://fmurl.cc/QQDAO\\n#遠見眼科 #近視雷射 #SmilePRO近視雷射', 'image': './res/1718349599390/1718349625487.png', 'category': '廣告/推廣'}, {'text': 'DJI Osmo Pocket 3 現貨發售中\\n。\\n全新 Pocket 3 採用性能強大的 1 英吋感光元件，支援拍攝規格高達 4K/120fps 的 10-bit 影片，輕鬆收錄精彩畫面。Pocket 3 搭載 2 英吋旋轉螢幕，配合全像素疾速對焦，無論橫拍還是直拍，每個片段都能完美對焦。Pocket 3 還有一系列升級的智慧功能，其中智慧跟隨 6.0 包括主角跟隨和預構圖跟隨等，能將被追蹤主體牢牢鎖定在畫面中；即使自拍，操作亦非常便捷。\\n再加上三軸雲台機械增穩和立體聲收音，Pocket 3 可以滿足你的創作需求，助你隨時隨地拍出亮眼的視覺效果。\\n一寸光陰，一手掌握：https://www.openshop.com.hk/product_30425.html', 'image': './res/1718349599390/1718349628635.png', 'category': '廣告/推廣'}, {'text': '【售】幽靈扇魔改套組（只有9pin線） 全新intel腳位（支援1700）+利民1700扣具\\n【保固】無\\n【價格】800\\n【面交地點】台北內湖東湖面交or賣貨\\n【備註】功能正常 我itx 散熱器用不到', 'image': './res/1718349599390/1718349633930.png', 'category': '廣告/推廣'}, {'text': '新北面交轉帳', 'image': './res/1718349599390/1718349639934.png', 'category': '廣告/推廣'}, {'text': '售：喜傑獅RZ-360-十代16吋電競筆電\\n規格：\\n螢幕：16吋144Hz\\n處理器：i5-10400（6核12緒\\n顯示卡：GTX-1650-4G\\n記憶卡：16Gx1\\n硬碟：256-SSd\\n系統：Win10 Office\\n配件-變壓器\\n備註：\\n電池剛換新的！功能都正常\\nIntel® 桌機i5十代CPU效能超強！速度更快！可拆式\\n16.1吋 144Hz Full HD 1920 x 1080sRGB 100% (72% NTSC廣色域）超視角清晰IPS面板技術 原生霧面Anti-Glare抗眩光!比市面上一些大廠牌低色域電競筆電好雲林可面交！\\n售：15000$$', 'image': './res/1718349599390/1718349643180.png', 'category': '廣告/推廣'}]\n"
     ]
    }
   ],
   "source": [
    "print(len(posts))"
   ],
   "metadata": {
    "collapsed": false,
    "ExecuteTime": {
     "end_time": "2024-06-14T06:01:38.726705Z",
     "start_time": "2024-06-14T06:01:38.710705Z"
    }
   },
   "execution_count": 28
  },
  {
   "cell_type": "code",
   "outputs": [
    {
     "name": "stdout",
     "output_type": "stream",
     "text": [
      "10\n"
     ]
    }
   ],
   "source": [
    "import csv\n",
    "import os\n",
    "\n",
    "def save_posts_to_csv(posts, filename):\n",
    "    file_exists = os.path.exists(filename)\n",
    "\n",
    "    # 打开文件，准备写入\n",
    "    with open(filename, mode='a', newline='', encoding='utf-8-sig') as file:\n",
    "        \n",
    "        # 如果文件不存在，添加标题行\n",
    "        if not file_exists:\n",
    "            file.write(\"\\\"Text\\\",\\\"Image\\\",\\\"Category\\\"\\n\")\n",
    "            # file.write(\"\\\"Text\\\",\\\"Category\\\"\\n\")\n",
    "        # 遍历帖子列表，写入每条帖子数据\n",
    "        for post in posts:\n",
    "            processed_text = post['text'].replace(\"\\n\",\" \")\n",
    "            file.write(f\"\\\"{processed_text}\\\",\\\"{post['image']}\\\",\\\"{post['category']}\\\"\\n\")\n",
    "            \n",
    "            # file.write(f\"\\\"{post['text']}\\\",\\\"{post['category']}\\\"\\n\")\n",
    "\n",
    "# 调用函数，保存数据到 CSV\n",
    "save_posts_to_csv(posts, 'res.csv')\n"
   ],
   "metadata": {
    "collapsed": false,
    "ExecuteTime": {
     "end_time": "2024-06-14T06:23:49.366353Z",
     "start_time": "2024-06-14T06:23:49.340353Z"
    }
   },
   "execution_count": 29
  },
  {
   "cell_type": "code",
   "execution_count": 30,
   "metadata": {},
   "outputs": [],
   "source": [
    "from PIL import Image\n",
    "\n",
    "width = driver.execute_script(\"return document.documentElement.scrollWidth\")\n",
    "height = driver.execute_script(\"return document.documentElement.scrollHeight\")\n",
    "driver.set_window_size(width,height)\n",
    "\n",
    "feed = driver.find_element(By.CSS_SELECTOR, 'div[role=\"main\"]') # 找到動態頁面(鎖定貼文)\n",
    "print('网页模块尺寸:height={},width={}'.format(feed.size['height'],feed.size['width']))\n",
    "\n",
    "feed.screenshot('feed.png')\n",
    "im=Image.open('feed.png')\n",
    "print(\"截图尺寸:height={},width={}\".format(im.size[1],im.size[0]))"
   ]
  },
  {
   "cell_type": "code",
   "execution_count": 44,
   "metadata": {},
   "outputs": [
    {
     "name": "stdout",
     "output_type": "stream",
     "text": [
      "Current Timestamp in milliseconds: 1718200121257\n"
     ]
    }
   ],
   "source": [
    "import time\n",
    "\n",
    "current_timestamp_ms = int(time.time() * 1000)\n",
    "print(f\"Current Timestamp in milliseconds: {current_timestamp_ms}\")"
   ]
  },
  {
   "cell_type": "markdown",
   "source": [],
   "metadata": {
    "collapsed": false
   }
  },
  {
   "cell_type": "code",
   "execution_count": null,
   "metadata": {},
   "outputs": [],
   "source": []
  }
 ],
 "metadata": {
  "kernelspec": {
   "display_name": "Python 3",
   "language": "python",
   "name": "python3"
  },
  "language_info": {
   "codemirror_mode": {
    "name": "ipython",
    "version": 3
   },
   "file_extension": ".py",
   "mimetype": "text/x-python",
   "name": "python",
   "nbconvert_exporter": "python",
   "pygments_lexer": "ipython3",
   "version": "3.10.11"
  }
 },
 "nbformat": 4,
 "nbformat_minor": 2
}
