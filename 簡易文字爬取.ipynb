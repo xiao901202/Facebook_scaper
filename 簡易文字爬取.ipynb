{
 "cells": [
  {
   "cell_type": "markdown",
   "metadata": {},
   "source": [
    "## 瀏覽器&套件設定"
   ]
  },
  {
   "cell_type": "code",
   "execution_count": 1,
   "metadata": {
    "ExecuteTime": {
     "end_time": "2024-06-14T05:29:24.247423Z",
     "start_time": "2024-06-14T05:29:24.085424Z"
    }
   },
   "outputs": [
    {
     "name": "stderr",
     "output_type": "stream",
     "text": [
      "/Users/ponywen/Documents/projects/Facebook_scaper/venv/lib/python3.9/site-packages/urllib3/__init__.py:35: NotOpenSSLWarning: urllib3 v2 only supports OpenSSL 1.1.1+, currently the 'ssl' module is compiled with 'LibreSSL 2.8.3'. See: https://github.com/urllib3/urllib3/issues/3020\n",
      "  warnings.warn(\n"
     ]
    }
   ],
   "source": [
    "from selenium.webdriver.chrome.service import Service as ChromeService\n",
    "from selenium import webdriver\n",
    "from webdriver_manager.chrome import ChromeDriverManager\n",
    "\n",
    "from selenium.webdriver.common.keys import Keys\n",
    "from selenium.webdriver.common.by import By\n",
    "from selenium.webdriver.support.ui import WebDriverWait\n",
    "from selenium.webdriver.support import expected_conditions as EC\n",
    "from selenium.webdriver.common.action_chains import ActionChains\n",
    "import time"
   ]
  },
  {
   "cell_type": "code",
   "execution_count": 2,
   "metadata": {
    "ExecuteTime": {
     "end_time": "2024-06-14T05:42:49.627193Z",
     "start_time": "2024-06-14T05:42:49.610193Z"
    }
   },
   "outputs": [],
   "source": [
    "# 擋掉通知黑屏，以防止瀏覽器第一次登入時跳出通知視窗\n",
    "options = webdriver.ChromeOptions()\n",
    "options.add_experimental_option(\"prefs\", {\n",
    "    \"profile.default_content_setting_values.notifications\": 2\n",
    "})"
   ]
  },
  {
   "cell_type": "code",
   "execution_count": 3,
   "metadata": {
    "ExecuteTime": {
     "end_time": "2024-06-14T05:42:50.550183Z",
     "start_time": "2024-06-14T05:42:50.540181Z"
    }
   },
   "outputs": [],
   "source": [
    "options.add_argument('--headless') # colab上須加上headless，表不使用GUI背景執行\n",
    "options.add_argument('--no-sandbox')\n",
    "options.headless = True"
   ]
  },
  {
   "cell_type": "markdown",
   "metadata": {},
   "source": [
    "## 自動登入"
   ]
  },
  {
   "cell_type": "code",
   "execution_count": 4,
   "metadata": {
    "ExecuteTime": {
     "end_time": "2024-06-14T05:43:02.411019Z",
     "start_time": "2024-06-14T05:42:52.915150Z"
    }
   },
   "outputs": [
    {
     "name": "stdout",
     "output_type": "stream",
     "text": [
      "登入成功\n"
     ]
    }
   ],
   "source": [
    "# ------ 登入的帳號與密碼 ------\n",
    "# username = str(input(\"請輸入帳號：\"))\n",
    "username = \"xiao901202@gmail.com\"\n",
    "# password = str(input(\"請輸入密碼：\"))\n",
    "password=\"qwerasdf520\"\n",
    "driver = webdriver.Chrome(service=ChromeService(ChromeDriverManager().install()), options=options)\n",
    "\n",
    "url = 'https://www.facebook.com'  \n",
    "driver.get(url)\n",
    "\n",
    "WebDriverWait(driver, 30).until(EC.presence_of_element_located((By.XPATH, '//*[@id=\"email\"]')))\n",
    "\n",
    "elem = driver.find_element(By.ID,\"email\")\n",
    "elem.send_keys(username)\n",
    "\n",
    "elem = driver.find_element(By.ID,\"pass\")\n",
    "elem.send_keys(password)\n",
    "\n",
    "\n",
    "# 提交登入\n",
    "elem.send_keys(Keys.RETURN)\n",
    "time.sleep(5)\n",
    "\n",
    "# 檢查有沒有被擋下來\n",
    "if len(driver.find_elements(By.XPATH,\"//*[contains(text(), '你的帳號暫時被鎖住')]\")) > 0:\n",
    "    driver.find_elements(By.XPATH,\"//*[contains(text(), '是')]\")[1].click()\n",
    "elif len(driver.find_elements(By.XPATH, \"//*[contains(text(), '用戶名稱或密碼無效')]\")) > 0:\n",
    "    print(\"登入失敗，請檢查帳號密碼是否正確\")\n",
    "elif len(driver.find_elements(By.XPATH, \"//*[contains(text(), 'Invalid username or password')]\")) > 0:\n",
    "    print(\"登入失敗，請檢查帳號密碼是否正確\")\n",
    "else:\n",
    "    feed = WebDriverWait(driver, 10).until(EC.presence_of_element_located((By.CSS_SELECTOR, 'div[role=\"main\"]'))) # 等待動態頁面(鎖定貼文)加載完成\n",
    "    print(\"登入成功\")"
   ]
  },
  {
   "cell_type": "markdown",
   "metadata": {},
   "source": [
    "## 純貼文爬取"
   ]
  },
  {
   "cell_type": "code",
   "outputs": [],
   "source": [
    "import base64\n",
    "\n",
    "\n",
    "def image_to_data_url(image_path: str):\n",
    "    # 開啟圖片文件\n",
    "    with open(image_path, 'rb') as image_file:\n",
    "        # 讀取圖片數據\n",
    "        image_data = image_file.read()\n",
    "\n",
    "    # 獲取 MIME 類型（這裡以 PNG 為例，根據你的圖片類型進行調整）\n",
    "    mime_type = 'image/png' if image_path.endswith('.png') else 'image/jpeg'\n",
    "\n",
    "    # 編碼圖片數據\n",
    "    base64_encoded_data = base64.b64encode(image_data)\n",
    "\n",
    "    # 轉換為字符串並格式化為 Data URL\n",
    "    base64_data_url = f'data:{mime_type};base64,{base64_encoded_data.decode()}'\n",
    "\n",
    "    return base64_data_url"
   ],
   "metadata": {
    "collapsed": false,
    "ExecuteTime": {
     "end_time": "2024-06-14T05:43:04.447992Z",
     "start_time": "2024-06-14T05:43:04.429992Z"
    }
   },
   "execution_count": 5
  },
  {
   "cell_type": "code",
   "outputs": [],
   "source": [
    "from openai import OpenAI\n",
    "\n",
    "key = ''\n",
    "with open(\"key.txt\", \"r\") as f:\n",
    "    key = f.read()\n",
    "    f.close()\n",
    "\n",
    "client = OpenAI(api_key=key)\n",
    "\n",
    "\n",
    "def get_post_category(image_url):\n",
    "    response = client.chat.completions.create(\n",
    "        model=\"gpt-4o\",\n",
    "        messages=[\n",
    "            {\n",
    "                \"role\": \"system\",\n",
    "                \"content\": [\n",
    "                    {\n",
    "                        \"type\": \"text\",\n",
    "                        \"text\": \"這是我設計的臉書可能有之貼文類型：\\n政治包括對政策、政治事件、選舉和政治人物的討論或意見\\n心情/情感分享 分享個人的情緒狀態、心情好壞、生活中的盧受和經歷·\\n廣告/推廣 包含推銷產品、服務咸活動的信息·可能來自個人或企業帳號·\\n生活日常 分享日常生活的點滴·如日常活動、家庭生活、個人愛好 等\\n新聞/時事 談論時事新聞、社會事件、重大發生等\\n教育/學習 分享教育相開內容、學習資源、課程信息等·\\n勵志/名言 包含勵志語錄、名人名宮、個人創造的正面能量語句\\n問題諮詢 尋求幫助、建議、意見交流的貼文、涉及生活、工作、情感 等方面的問題\\n活動邀請/公告 包括聚會邀請·活動宣傳、特別公告等\\n旅遊分享 分享旅行經驗、旅遊計劃或心得·\\n美食分享 談論美食、分享食譜、餐觀推薦等\\n藝術/創作 分享個人的創作、藝衛作品、文學作品等\\n健康/運動 談論健康話題、運動心得、健身技巧等·\\n科技/數碼 分享科技新聞、數碼產品評瀾、使用心得等·\\n商業/經濟 討論商業動態·經濟趨勢、市塌分析等·\\n宗教/信仰分享宗教信仰相關的釀悟、活動·節日信息等·\\n娛樂 \\n\\n接下來我會貼給你一個臉書貼文，請直接告訴我覺得是哪一個不要有其他任何文字\"\n",
    "                    }\n",
    "                ]\n",
    "            },\n",
    "            {\n",
    "                \"role\": \"user\",\n",
    "                \"content\": [\n",
    "                    {\n",
    "                        \"type\": \"image_url\",\n",
    "                        \"image_url\": {\"url\": image_url}\n",
    "                    }\n",
    "                ]\n",
    "            }\n",
    "        ],\n",
    "        temperature=0,\n",
    "        max_tokens=256,\n",
    "        top_p=1,\n",
    "        frequency_penalty=0,\n",
    "        presence_penalty=0\n",
    "    )\n",
    "    return response.choices[0].message.content"
   ],
   "metadata": {
    "collapsed": false,
    "ExecuteTime": {
     "end_time": "2024-06-14T05:43:06.222968Z",
     "start_time": "2024-06-14T05:43:06.196968Z"
    }
   },
   "execution_count": 7
  },
  {
   "cell_type": "code",
   "outputs": [
    {
     "name": "stdout",
     "output_type": "stream",
     "text": [
      "0 6\n",
      "!!! 檢查當前是否有 「查看更多」 Button !!!\n",
      "Button clicked!\n",
      "Button clicked!\n",
      "!!! 檢查完畢 !!!\n",
      "--------------貼文分隔線--------------\n",
      "Message: no such element: Unable to locate element: {\"method\":\"css selector\",\"selector\":\"div[data-ad-preview=\"message\"]\"}\n",
      "  (Session info: chrome-headless-shell=126.0.6478.62); For documentation on this error, please visit: https://www.selenium.dev/documentation/webdriver/troubleshooting/errors#no-such-element-exception\n",
      "Stacktrace:\n",
      "0   chromedriver                        0x0000000104a67a38 chromedriver + 4389432\n",
      "1   chromedriver                        0x0000000104a60344 chromedriver + 4358980\n",
      "2   chromedriver                        0x000000010467cafc chromedriver + 281340\n",
      "3   chromedriver                        0x00000001046bf2c8 chromedriver + 553672\n",
      "4   chromedriver                        0x00000001046b5718 chromedriver + 513816\n",
      "5   chromedriver                        0x00000001046f7cec chromedriver + 785644\n",
      "6   chromedriver                        0x00000001046b3ed0 chromedriver + 507600\n",
      "7   chromedriver                        0x00000001046b48a8 chromedriver + 510120\n",
      "8   chromedriver                        0x0000000104a2f3bc chromedriver + 4158396\n",
      "9   chromedriver                        0x0000000104a33e20 chromedriver + 4177440\n",
      "10  chromedriver                        0x0000000104a1507c chromedriver + 4051068\n",
      "11  chromedriver                        0x0000000104a3470c chromedriver + 4179724\n",
      "12  chromedriver                        0x0000000104a0807c chromedriver + 3997820\n",
      "13  chromedriver                        0x0000000104a520d4 chromedriver + 4301012\n",
      "14  chromedriver                        0x0000000104a52250 chromedriver + 4301392\n",
      "15  chromedriver                        0x0000000104a5ff3c chromedriver + 4357948\n",
      "16  libsystem_pthread.dylib             0x0000000185356f94 _pthread_start + 136\n",
      "17  libsystem_pthread.dylib             0x0000000185351d34 thread_start + 8\n",
      "\n",
      "此篇非普通貼文，跳過處理\n",
      "--------------貼文分隔線--------------\n",
      "元素截圖完成\n",
      "1 全台第一，更是唯一。\n",
      "取得經濟部MIT微笑標章的「電動車充電樁」就是微星。\n",
      "台灣原產地研發製造，嚴格用料、品質把關、完善客服，保障您的充電安全！\n",
      "在家安心充，出外開心遊，認明MSI微星智慧充電樁，給您最佳充電體驗。\n",
      "-\n",
      "填寫表單親自體驗MSI智慧充電樁的魅力，6/23 下午4:00來全國電子台南永康中華店，與我們一同狂歡！\n",
      "點擊此處報名：https://ems.msi.com/preview/95/zh-tw 廣告/推廣\n",
      "--------------貼文分隔線--------------\n",
      "元素截圖完成\n",
      "2 「黑色既謙虛又浪漫、既輕鬆又懶惰，而且神秘…」～ 山本耀司 #黑色潮流 \n",
      "-\n",
      " 立即選購：https://ajtime.cc/xxAf2\n",
      "-\n",
      " 瞭解更多：https://ajtime.cc/xLGym\n",
      "-\n",
      "#寶加地 ￼\n",
      "#碳纖維X鈦合金之完美傑作 \n",
      "#日本MIYOTA自動上鍊機械機芯\n",
      "-\n",
      "《碳纖魅影-魅影黑》在設計上承繼品牌德式製錶的工藝精髓，以多層次立體疊砌的方式，為錶款賦予最穩固的結構。上錶圈及底蓋邊框使用與錶款同名的碳纖維材質打造，中殼部分則使用航太領域的高科技鈦合金材質。其中碳纖維擁有高硬度、高強度的物理特性，但重量較傳統不鏽鋼輕很多，是專業賽車的熱門材質。\n",
      "-\n",
      " 寶加地授權實體經銷點\n",
      "台北 \n",
      "昊鋒寶加地直營店｜02-25991186 | 台北市中山區南京東路三段201號9樓\n",
      "新北\n",
      "寶儀鐘錶｜02-29688069｜新北市板橋區南門街51號（捷運府中站一號出口）\n",
      "台中  \n",
      "橘屋時計｜04-26526089｜台中市龍井區台灣大道五段3巷76號\n",
      "高雄\n",
      "安格時計｜07-5535112｜高雄市鼓山區美術東四路440號1樓 廣告/推廣\n",
      "--------------貼文分隔線--------------\n",
      "Message: no such element: Unable to locate element: {\"method\":\"css selector\",\"selector\":\"div[data-ad-preview=\"message\"]\"}\n",
      "  (Session info: chrome-headless-shell=126.0.6478.62); For documentation on this error, please visit: https://www.selenium.dev/documentation/webdriver/troubleshooting/errors#no-such-element-exception\n",
      "Stacktrace:\n",
      "0   chromedriver                        0x0000000104a67a38 chromedriver + 4389432\n",
      "1   chromedriver                        0x0000000104a60344 chromedriver + 4358980\n",
      "2   chromedriver                        0x000000010467cafc chromedriver + 281340\n",
      "3   chromedriver                        0x00000001046bf2c8 chromedriver + 553672\n",
      "4   chromedriver                        0x00000001046b5718 chromedriver + 513816\n",
      "5   chromedriver                        0x00000001046f7cec chromedriver + 785644\n",
      "6   chromedriver                        0x00000001046b3ed0 chromedriver + 507600\n",
      "7   chromedriver                        0x00000001046b48a8 chromedriver + 510120\n",
      "8   chromedriver                        0x0000000104a2f3bc chromedriver + 4158396\n",
      "9   chromedriver                        0x0000000104a33e20 chromedriver + 4177440\n",
      "10  chromedriver                        0x0000000104a1507c chromedriver + 4051068\n",
      "11  chromedriver                        0x0000000104a3470c chromedriver + 4179724\n",
      "12  chromedriver                        0x0000000104a0807c chromedriver + 3997820\n",
      "13  chromedriver                        0x0000000104a520d4 chromedriver + 4301012\n",
      "14  chromedriver                        0x0000000104a52250 chromedriver + 4301392\n",
      "15  chromedriver                        0x0000000104a5ff3c chromedriver + 4357948\n",
      "16  libsystem_pthread.dylib             0x0000000185356f94 _pthread_start + 136\n",
      "17  libsystem_pthread.dylib             0x0000000185351d34 thread_start + 8\n",
      "\n",
      "此篇非普通貼文，跳過處理\n",
      "--------------貼文分隔線--------------\n",
      "元素截圖完成\n",
      "3 日本最奇葩節目！「邀請正妹跑上坡」 超受歡迎連播15年\n",
      "--\n",
      "1F傳送門\n",
      "只有日本可以超越日本阿！！ 娛樂\n",
      "--------------貼文分隔線--------------\n",
      "元素截圖完成\n",
      "4 要去吃午餐的時候竟然看到了夢想車 生活日常\n",
      "---------------------------------\n",
      "6 19\n",
      "!!! 檢查當前是否有 「查看更多」 Button !!!\n",
      "Button clicked!\n",
      "Button clicked!\n",
      "Button clicked!\n",
      "!!! 檢查完畢 !!!\n",
      "--------------貼文分隔線--------------\n",
      "元素截圖完成\n",
      "5 炒茄子時，最忌先放油了，大廚教你一招，茄子不吸油不發黑 美食分享\n",
      "--------------貼文分隔線--------------\n",
      "Message: no such element: Unable to locate element: {\"method\":\"css selector\",\"selector\":\"div[data-ad-preview=\"message\"]\"}\n",
      "  (Session info: chrome-headless-shell=126.0.6478.62); For documentation on this error, please visit: https://www.selenium.dev/documentation/webdriver/troubleshooting/errors#no-such-element-exception\n",
      "Stacktrace:\n",
      "0   chromedriver                        0x0000000104a67a38 chromedriver + 4389432\n",
      "1   chromedriver                        0x0000000104a60344 chromedriver + 4358980\n",
      "2   chromedriver                        0x000000010467cafc chromedriver + 281340\n",
      "3   chromedriver                        0x00000001046bf2c8 chromedriver + 553672\n",
      "4   chromedriver                        0x00000001046b5718 chromedriver + 513816\n",
      "5   chromedriver                        0x00000001046f7cec chromedriver + 785644\n",
      "6   chromedriver                        0x00000001046b3ed0 chromedriver + 507600\n",
      "7   chromedriver                        0x00000001046b48a8 chromedriver + 510120\n",
      "8   chromedriver                        0x0000000104a2f3bc chromedriver + 4158396\n",
      "9   chromedriver                        0x0000000104a33e20 chromedriver + 4177440\n",
      "10  chromedriver                        0x0000000104a1507c chromedriver + 4051068\n",
      "11  chromedriver                        0x0000000104a3470c chromedriver + 4179724\n",
      "12  chromedriver                        0x0000000104a0807c chromedriver + 3997820\n",
      "13  chromedriver                        0x0000000104a520d4 chromedriver + 4301012\n",
      "14  chromedriver                        0x0000000104a52250 chromedriver + 4301392\n",
      "15  chromedriver                        0x0000000104a5ff3c chromedriver + 4357948\n",
      "16  libsystem_pthread.dylib             0x0000000185356f94 _pthread_start + 136\n",
      "17  libsystem_pthread.dylib             0x0000000185351d34 thread_start + 8\n",
      "\n",
      "此篇非普通貼文，跳過處理\n",
      "--------------貼文分隔線--------------\n",
      "元素截圖完成\n",
      "6 滑鼠 \n",
      " 滑鼠墊  現省618元\n",
      "FPS玩家不可或缺的超值組合\n",
      "2.4G RF無線反應超快 #GM31輕量化無線滑鼠\n",
      "超滑防潑水散熱佳表面 #GD72彩虹膜滑鼠墊\n",
      "一次入手現省618 \n",
      " 3,562元\n",
      "哪裡買\n",
      "momo\n",
      "https://msi.gm/S8981436\n",
      "PChome\n",
      "https://msi.gm/S6180E08\n",
      "MSI官方商城\n",
      "https://msi.gm/SBF3FD39 廣告/推廣\n",
      "--------------貼文分隔線--------------\n",
      "元素截圖完成\n",
      "7 急售：家里老人不會用 可惜自己用不上 三菱TB50折疊式中耕機 全新沒有用過 半價處理掉 有保固 廣告/推廣\n",
      "--------------貼文分隔線--------------\n",
      "元素截圖完成\n",
      "8 童話故事那么美好，真想生活在這樣的地方#治愈系風景 #瑞士 #旅行 #人間仙境美如畫 #生活不止眼前的茍且還有詩和遠方 旅遊分享\n",
      "--------------貼文分隔線--------------\n",
      "元素截圖完成\n",
      "9 商品擬人化 \n",
      "Twitter@mochitoseaguri 藝術/創作\n",
      "--------------貼文分隔線--------------\n",
      "元素截圖完成\n",
      "10 日治時期屏東飛行第八聯隊飛機於下淡水溪鐵橋上空舊照 新聞/時事\n",
      "---------------------------------\n"
     ]
    },
    {
     "name": "stderr",
     "output_type": "stream",
     "text": [
      "IOPub data rate exceeded.\n",
      "The Jupyter server will temporarily stop sending output\n",
      "to the client in order to avoid crashing it.\n",
      "To change this limit, set the config variable\n",
      "`--ServerApp.iopub_data_rate_limit`.\n",
      "\n",
      "Current values:\n",
      "ServerApp.iopub_data_rate_limit=1000000.0 (bytes/sec)\n",
      "ServerApp.rate_limit_window=3.0 (secs)\n",
      "\n"
     ]
    }
   ],
   "source": [
    "import time\n",
    "\n",
    "posts_number = int(input(\"請輸入要爬取的貼文數量:\"))\n",
    "posts = [] \n",
    "\n",
    "driver.set_window_size(1000,4000)\n",
    "# 初始設定\n",
    "last_height = driver.execute_script(\"return document.body.scrollHeight\") # 取得頁面高度初始值\n",
    "last_count = 0 # 計算目前貼文數量\n",
    "\n",
    "feed = driver.find_element(By.CSS_SELECTOR, 'div[role=\"main\"]') # 找到動態頁面(鎖定貼文)\n",
    "while True:\n",
    "    # 如果已經找到足夠的貼文，則停止\n",
    "    if len(posts) >= posts_number:\n",
    "        posts = posts[:posts_number]\n",
    "        break\n",
    "    \n",
    "    # 貼文文字的 class selector\n",
    "    post_text_class_selector = 'div[data-ad-preview=\"message\"]'\n",
    "    \n",
    "    # 捕捉所有貼文元素\n",
    "    \n",
    "    elements = feed.find_elements(By.CSS_SELECTOR, 'div[class = x1lliihq]')\n",
    "    current_count = len(elements)    \n",
    "    if current_count == 0:\n",
    "        elements = feed.find_elements(By.CSS_SELECTOR, '[data-pagelet]')\n",
    "        current_count = len(elements)\n",
    "    print(last_count,current_count)\n",
    "    \n",
    "\n",
    "    if current_count != last_count:\n",
    "        try:\n",
    "            print(\"!!! 檢查當前是否有 「查看更多」 Button !!!\")\n",
    "            buttons = WebDriverWait(driver, 10).until(EC.presence_of_all_elements_located((By.XPATH, \"//div[contains(text(), '查看更多') and @role='button']\")))\n",
    "            for button in buttons:\n",
    "\n",
    "                # 滾動到按鈕位置\n",
    "                driver.execute_script(\"arguments[0].scrollIntoView(true);\", button)\n",
    "                WebDriverWait(driver, 5).until(EC.visibility_of(button))\n",
    "                # 使用 JavaScript 強制點擊按鈕\n",
    "                driver.execute_script(\"arguments[0].click();\", button)\n",
    "                print('Button clicked!')\n",
    "        except Exception as e:\n",
    "            print(f\"當前無「查看更多」 Button\")\n",
    "            pass\n",
    "\n",
    "        print('!!! 檢查完畢 !!!')\n",
    "        while len(posts) < posts_number and len(elements) > last_count\n",
    "            current_element = elements[last_count]\n",
    "            last_count += 1\n",
    "            try:\n",
    "                print('--------------貼文分隔線--------------')\n",
    "                element_post = current_element.find_element(By.CSS_SELECTOR, post_text_class_selector)\n",
    "                post_text = element_post.text\n",
    "                current_element.screenshot('element_screenshot.png')\n",
    "                print(\"元素截圖完成\")\n",
    "                screenshot_base64 = image_to_data_url('element_screenshot.png')\n",
    "                category = get_post_category(screenshot_base64)\n",
    "                posts.append({\n",
    "                    'text': post_text, 'image': screenshot_base64, 'category': category\n",
    "                })\n",
    "                print(len(posts),post_text,category )\n",
    "            except Exception as e:\n",
    "                print(e)\n",
    "                print('此篇非普通貼文，跳過處理')\n",
    "        print('---------------------------------')\n",
    "\n",
    "    # 計算新的滾動高度並比較是否到達底部\n",
    "    new_height = driver.execute_script(\"return document.body.scrollHeight\")\n",
    "    last_height = new_height\n",
    "\n",
    "    # 滾動到頁面底部\n",
    "    driver.execute_script(\"window.scrollTo(0, document.body.scrollHeight);\")\n",
    "\n",
    "    # 等待新內容加載(秒)\n",
    "    time.sleep(4)\n",
    "\n",
    "print('共爬取', len(posts), '篇貼文')\n",
    "print(posts)\n",
    "# driver.refresh()"
   ],
   "metadata": {
    "collapsed": false,
    "ExecuteTime": {
     "end_time": "2024-06-14T06:01:18.555356Z",
     "start_time": "2024-06-14T06:00:32.068479Z"
    }
   },
   "execution_count": 9
  },
  {
   "cell_type": "code",
   "outputs": [
    {
     "name": "stdout",
     "output_type": "stream",
     "text": [
      "10\n"
     ]
    }
   ],
   "source": [
    "print(len(posts))"
   ],
   "metadata": {
    "collapsed": false,
    "ExecuteTime": {
     "end_time": "2024-06-14T06:01:38.726705Z",
     "start_time": "2024-06-14T06:01:38.710705Z"
    }
   },
   "execution_count": 10
  },
  {
   "cell_type": "code",
   "outputs": [],
   "source": [
    "import csv\n",
    "import os\n",
    "\n",
    "def save_posts_to_csv(posts, filename):\n",
    "    file_exists = os.path.exists(filename)\n",
    "\n",
    "    # 打开文件，准备写入\n",
    "    with open(filename, mode='a', newline='', encoding='utf-8-sig') as file:\n",
    "        \n",
    "        # 如果文件不存在，添加标题行\n",
    "        if not file_exists:\n",
    "            file.write(\"\\\"Text\\\",\\\"Image\\\",\\\"Category\\\"\\n\")\n",
    "            # file.write(\"\\\"Text\\\",\\\"Category\\\"\\n\")\n",
    "        # 遍历帖子列表，写入每条帖子数据\n",
    "        for post in posts:\n",
    "            processed_text = post['text'].replace(\"\\n\",\" \")\n",
    "            file.write(f\"\\\"{processed_text}\\\",\\\"{post['image']}\\\",\\\"{post['category']}\\\"\\n\")\n",
    "            \n",
    "            # file.write(f\"\\\"{post['text']}\\\",\\\"{post['category']}\\\"\\n\")\n",
    "\n",
    "# 调用函数，保存数据到 CSV\n",
    "save_posts_to_csv(posts, 'res.csv')\n"
   ],
   "metadata": {
    "collapsed": false,
    "ExecuteTime": {
     "end_time": "2024-06-14T06:23:49.366353Z",
     "start_time": "2024-06-14T06:23:49.340353Z"
    }
   },
   "execution_count": 11
  },
  {
   "cell_type": "code",
   "execution_count": 20,
   "metadata": {},
   "outputs": [
    {
     "name": "stdout",
     "output_type": "stream",
     "text": [
      "网页模块尺寸:height=2084,width=603\n",
      "截图尺寸:height=1558,width=670\n"
     ]
    }
   ],
   "source": [
    "from PIL import Image\n",
    "\n",
    "width = driver.execute_script(\"return document.documentElement.scrollWidth\")\n",
    "height = driver.execute_script(\"return document.documentElement.scrollHeight\")\n",
    "driver.set_window_size(width,height)\n",
    "\n",
    "feed = driver.find_element(By.CSS_SELECTOR, 'div[role=\"main\"]') # 找到動態頁面(鎖定貼文)\n",
    "print('网页模块尺寸:height={},width={}'.format(feed.size['height'],feed.size['width']))\n",
    "\n",
    "feed.screenshot('feed.png')\n",
    "im=Image.open('feed.png')\n",
    "print(\"截图尺寸:height={},width={}\".format(im.size[1],im.size[0]))"
   ]
  },
  {
   "cell_type": "code",
   "execution_count": 44,
   "metadata": {},
   "outputs": [
    {
     "name": "stdout",
     "output_type": "stream",
     "text": [
      "Current Timestamp in milliseconds: 1718200121257\n"
     ]
    }
   ],
   "source": [
    "import time\n",
    "\n",
    "current_timestamp_ms = int(time.time() * 1000)\n",
    "print(f\"Current Timestamp in milliseconds: {current_timestamp_ms}\")"
   ]
  },
  {
   "cell_type": "markdown",
   "source": [],
   "metadata": {
    "collapsed": false
   }
  },
  {
   "cell_type": "code",
   "execution_count": null,
   "metadata": {},
   "outputs": [],
   "source": []
  }
 ],
 "metadata": {
  "kernelspec": {
   "display_name": "Python 3",
   "language": "python",
   "name": "python3"
  },
  "language_info": {
   "codemirror_mode": {
    "name": "ipython",
    "version": 3
   },
   "file_extension": ".py",
   "mimetype": "text/x-python",
   "name": "python",
   "nbconvert_exporter": "python",
   "pygments_lexer": "ipython3",
   "version": "3.10.11"
  }
 },
 "nbformat": 4,
 "nbformat_minor": 2
}
