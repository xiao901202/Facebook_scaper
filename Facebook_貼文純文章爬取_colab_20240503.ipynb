{
  "cells": [
    {
      "cell_type": "markdown",
      "metadata": {
        "id": "jM1HVsF3bZ7_"
      },
      "source": [
        "## 初始安裝seleuinm (每次使用 Colab 都要先跑這幾行指令)"
      ]
    },
    {
      "cell_type": "code",
      "execution_count": null,
      "metadata": {
        "id": "uu-qVP8CbEPu"
      },
      "outputs": [],
      "source": [
        "!apt-get update\n",
        "!apt install chromium-chromedriver\n",
        "!cp /usr/lib/chromium-browser/chromedriver /usr/bin\n",
        "!pip install selenium"
      ]
    },
    {
      "cell_type": "markdown",
      "metadata": {
        "id": "_VgkJqiRbEPr"
      },
      "source": [
        "## 瀏覽器&套件設定"
      ]
    },
    {
      "cell_type": "code",
      "execution_count": 1,
      "metadata": {
        "id": "I9VMeHpkbEPs"
      },
      "outputs": [],
      "source": [
        "from selenium.webdriver.chrome.service import Service as ChromeService\n",
        "from selenium import webdriver\n",
        "from selenium.webdriver.common.keys import Keys\n",
        "from selenium.webdriver.common.by import By\n",
        "from selenium.webdriver.support.ui import WebDriverWait\n",
        "from selenium.webdriver.support import expected_conditions as EC\n",
        "from selenium.webdriver.common.action_chains import ActionChains\n",
        "import time"
      ]
    },
    {
      "cell_type": "code",
      "execution_count": 2,
      "metadata": {
        "id": "iGwPeAnMbEPt"
      },
      "outputs": [],
      "source": [
        "# 擋掉通知黑屏，以防止瀏覽器第一次登入時跳出通知視窗\n",
        "options = webdriver.ChromeOptions()\n",
        "options.add_experimental_option(\"prefs\", {\n",
        "    \"profile.default_content_setting_values.notifications\": 2\n",
        "})\n",
        "options.add_argument('--headless') # colab上須加上headless，表不使用GUI背景執行\n",
        "options.add_argument('--no-sandbox')\n",
        "options.headless = True"
      ]
    },
    {
      "cell_type": "markdown",
      "metadata": {
        "id": "t7Fe1cHlbEPt"
      },
      "source": [
        "## 自動登入"
      ]
    },
    {
      "cell_type": "code",
      "execution_count": 3,
      "metadata": {
        "id": "TSmE5vVjbEPt"
      },
      "outputs": [
        {
          "name": "stdout",
          "output_type": "stream",
          "text": [
            "登入成功\n"
          ]
        }
      ],
      "source": [
        "# ------ 登入的帳號與密碼 ------\n",
        "username = str(input(\"請輸入帳號：\"))\n",
        "password = str(input(\"請輸入密碼：\"))\n",
        "\n",
        "driver = webdriver.Chrome(options=options)\n",
        "\n",
        "url = 'https://www.facebook.com'\n",
        "driver.get(url)\n",
        "\n",
        "WebDriverWait(driver, 30).until(EC.presence_of_element_located((By.XPATH, '//*[@id=\"email\"]')))\n",
        "\n",
        "elem = driver.find_element(By.ID,\"email\")\n",
        "elem.send_keys(username)\n",
        "\n",
        "elem = driver.find_element(By.ID,\"pass\")\n",
        "elem.send_keys(password)\n",
        "\n",
        "\n",
        "# 提交登入\n",
        "elem.send_keys(Keys.RETURN)\n",
        "time.sleep(5)\n",
        "\n",
        "# 檢查有沒有被擋下來\n",
        "if len(driver.find_elements(By.XPATH,\"//*[contains(text(), '你的帳號暫時被鎖住')]\")) > 0:\n",
        "    driver.find_elements(By.XPATH,\"//*[contains(text(), '是')]\")[1].click()\n",
        "elif len(driver.find_elements(By.XPATH,\"//*[contains(text(), '尋找你的帳號並登入。')]\")) > 0:\n",
        "    print(\"登入失敗，請檢查帳號密碼是否正確\")\n",
        "else:\n",
        "    wait = WebDriverWait(driver, 10)\n",
        "    feed = wait.until(EC.presence_of_element_located((By.CSS_SELECTOR, 'div[role=\"feed\"]'))) # 等待動態頁面(鎖定貼文)加載完成\n",
        "    print(\"登入成功\")"
      ]
    },
    {
      "cell_type": "markdown",
      "metadata": {
        "id": "RZCThfOKbEPu"
      },
      "source": [
        "## 純貼文爬取"
      ]
    },
    {
      "cell_type": "code",
      "execution_count": 1,
      "metadata": {
        "id": "esd1jkgNbEPu"
      },
      "outputs": [
        {
          "ename": "ValueError",
          "evalue": "invalid literal for int() with base 10: ''",
          "output_type": "error",
          "traceback": [
            "\u001b[1;31m---------------------------------------------------------------------------\u001b[0m",
            "\u001b[1;31mValueError\u001b[0m                                Traceback (most recent call last)",
            "Input \u001b[1;32mIn [1]\u001b[0m, in \u001b[0;36m<cell line: 1>\u001b[1;34m()\u001b[0m\n\u001b[1;32m----> 1\u001b[0m posts_number \u001b[38;5;241m=\u001b[39m \u001b[38;5;28;43mint\u001b[39;49m\u001b[43m(\u001b[49m\u001b[38;5;28;43minput\u001b[39;49m\u001b[43m(\u001b[49m\u001b[38;5;124;43m\"\u001b[39;49m\u001b[38;5;124;43m請輸入要爬取的貼文數量:\u001b[39;49m\u001b[38;5;124;43m\"\u001b[39;49m\u001b[43m)\u001b[49m\u001b[43m)\u001b[49m\n\u001b[0;32m      2\u001b[0m posts \u001b[38;5;241m=\u001b[39m [] \n\u001b[0;32m      5\u001b[0m \u001b[38;5;66;03m# 初始設定\u001b[39;00m\n",
            "\u001b[1;31mValueError\u001b[0m: invalid literal for int() with base 10: ''"
          ]
        }
      ],
      "source": [
        "posts_number = int(input(\"請輸入要爬取的貼文數量:\"))\n",
        "posts = [] \n",
        "\n",
        "\n",
        "# 初始設定\n",
        "last_height = driver.execute_script(\"return document.body.scrollHeight\") # 取得頁面高度初始值\n",
        "last_count = 0 # 計算目前貼文數量\n",
        "\n",
        "feed = driver.find_element(By.CSS_SELECTOR, 'div[role=\"feed\"]') # 找到動態頁面(鎖定貼文)\n",
        "while True:\n",
        "\n",
        "\n",
        "    # 如果已經找到足夠的貼文，則停止\n",
        "    if len(posts) >= posts_number:\n",
        "        posts = posts[:posts_number]\n",
        "        break\n",
        "    \n",
        "    # 貼文文字的 class selector\n",
        "    post_text_class_selector = \".x1iorvi4.x1pi30zi.x1l90r2v.x1swvt13\"\n",
        "\n",
        "    # 貼文中(查看更多)按鈕的 xpath selector\n",
        "    # post_more_button_xpath_selector = \"//div[@class='x1i10hfl xjbqb8w x1ejq31n xd10rxx x1sy0etr x17r0tee x972fbf xcfux6l x1qhh985 xm0m39n x9f619 x1ypdohk xt0psk2 xe8uvvx xdj266r x11i5rnm xat24cr x1mh8g0r xexx8yu x4uap5 x18d9i69 xkhd6sd x16tdsg8 xggy1nq x1a2a7pz xt0b8zv x1hl2dhg xzsf02u x1s688f' and @role='button']\"\n",
        "\n",
        "    # 捕捉所有的 data-pagelet 元素\n",
        "    elements = feed.find_elements(By.CSS_SELECTOR, '[data-pagelet]')\n",
        "    current_count = len(elements)\n",
        "    if current_count != last_count:\n",
        "        # 只處理新出現的 elements\n",
        "        new_elements = elements[last_count:]\n",
        "        for element in new_elements:\n",
        "            print('--------------貼文分隔線--------------')\n",
        "            try:\n",
        "                # 得知element的html\n",
        "                # print(element.get_attribute('outerHTML'))\n",
        "                # button = element.find_element(By.XPATH,post_more_button_xpath_selector).click()\n",
        "                button = WebDriverWait(driver, 10).until(EC.element_to_be_clickable((By.XPATH, \"//*[contains(text(), '查看更多')]\")))\n",
        "                print(button)\n",
        "                button.click()\n",
        "                print('查看更多 Button clicked!')\n",
        "                print('---')\n",
        "            except Exception as e:\n",
        "                # print('此篇為普通貼文，直接處理 or 按到推薦朋友的按紐，待處理')\n",
        "                print('---')\n",
        "            try:\n",
        "                element = element.find_element(By.CSS_SELECTOR, post_text_class_selector)\n",
        "                posts.append(element.text)\n",
        "                print(element.text)\n",
        "            except:\n",
        "                print('此篇非普通貼文，跳過處理')\n",
        "\n",
        "        # 更新 last_count\n",
        "        last_count = current_count\n",
        "\n",
        "    # 計算新的滾動高度並比較是否到達底部\n",
        "    new_height = driver.execute_script(\"return document.body.scrollHeight\")\n",
        "    last_height = new_height\n",
        "\n",
        "    # 滾動到頁面底部\n",
        "    driver.execute_script(\"window.scrollTo(0, document.body.scrollHeight);\")\n",
        "\n",
        "    # 等待新內容加載(秒)\n",
        "    time.sleep(6)\n",
        "print('共爬取', len(posts), '篇貼文')\n",
        "print(posts)\n",
        "driver.refresh()"
      ]
    },
    {
      "cell_type": "code",
      "execution_count": null,
      "metadata": {
        "id": "SnVeGfQ2co0O"
      },
      "outputs": [],
      "source": [
        "driver.quit()"
      ]
    }
  ],
  "metadata": {
    "colab": {
      "provenance": []
    },
    "kernelspec": {
      "display_name": "Python 3",
      "language": "python",
      "name": "python3"
    },
    "language_info": {
      "codemirror_mode": {
        "name": "ipython",
        "version": 3
      },
      "file_extension": ".py",
      "mimetype": "text/x-python",
      "name": "python",
      "nbconvert_exporter": "python",
      "pygments_lexer": "ipython3",
      "version": "3.10.11"
    }
  },
  "nbformat": 4,
  "nbformat_minor": 0
}
